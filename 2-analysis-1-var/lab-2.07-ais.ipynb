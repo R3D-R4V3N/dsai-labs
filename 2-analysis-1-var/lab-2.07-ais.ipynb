{
 "cells": [
  {
   "cell_type": "markdown",
   "metadata": {},
   "source": [
    "# Lab 2.07 - Univariate Analysis\n",
    "\n",
    "## Exercise 7 - Australian Athletes (ais)\n",
    "\n",
    "Import all necessary Python libraries and load the AIS dataset from lab exercise 1.01. Also include the code for setting the index and conversion to categorical variables!"
   ]
  },
  {
   "cell_type": "code",
   "execution_count": 1,
   "metadata": {},
   "outputs": [],
   "source": [
    "# Importing the necessary packages\n",
    "import numpy as np                                  # Scientific computing\n",
    "import scipy.stats as stats                         # Statistical tests\n",
    "\n",
    "import pandas as pd                                 # Data Frame\n",
    "from pandas.api.types import CategoricalDtype\n",
    "\n",
    "import matplotlib.pyplot as plt                     # Basic visualisation\n",
    "from statsmodels.graphics.mosaicplot import mosaic  # Mosaic diagram\n",
    "import seaborn as sns                               # Statistical visualisation"
   ]
  },
  {
   "cell_type": "code",
   "execution_count": 8,
   "metadata": {},
   "outputs": [
    {
     "name": "stdout",
     "output_type": "stream",
     "text": [
      "<class 'pandas.core.frame.DataFrame'>\n",
      "Index: 202 entries, 1 to 202\n",
      "Data columns (total 13 columns):\n",
      " #   Column  Non-Null Count  Dtype   \n",
      "---  ------  --------------  -----   \n",
      " 0   rcc     202 non-null    float64 \n",
      " 1   wcc     202 non-null    float64 \n",
      " 2   hc      202 non-null    float64 \n",
      " 3   hg      202 non-null    float64 \n",
      " 4   ferr    202 non-null    int64   \n",
      " 5   bmi     202 non-null    float64 \n",
      " 6   ssf     202 non-null    float64 \n",
      " 7   pcBfat  202 non-null    float64 \n",
      " 8   lbm     202 non-null    float64 \n",
      " 9   ht      202 non-null    float64 \n",
      " 10  wt      202 non-null    float64 \n",
      " 11  sex     202 non-null    category\n",
      " 12  sport   202 non-null    category\n",
      "dtypes: category(2), float64(10), int64(1)\n",
      "memory usage: 19.8 KB\n"
     ]
    }
   ],
   "source": [
    "ais = pd.read_csv('../data/ais.csv').set_index('id')\n",
    "ais.sex = ais.sex.astype('category')\n",
    "ais.sport = ais.sport.astype('category')\n",
    "ais.head()\n",
    "ais.info()"
   ]
  },
  {
   "cell_type": "markdown",
   "metadata": {},
   "source": [
    "Use an appropriate chart type to visualise the following variables. Are several chart types suitable? Make one of each! Note how some graphs nevertheless give a better insight into the data than other types of graphs.\n",
    "\n",
    "- `sex`\n",
    "- `sport`\n",
    "- `ht` (show this also divided by `sex` and by `sport`.)"
   ]
  },
  {
   "cell_type": "code",
   "execution_count": 15,
   "metadata": {},
   "outputs": [
    {
     "data": {
      "text/plain": [
       "<Axes: xlabel='id', ylabel='sex'>"
      ]
     },
     "execution_count": 15,
     "metadata": {},
     "output_type": "execute_result"
    },
    {
     "data": {
      "image/png": "[encoded data removed]",
      "text/plain": [
       "<Figure size 640x480 with 1 Axes>"
      ]
     },
     "metadata": {},
     "output_type": "display_data"
    }
   ],
   "source": [
    "sns.barplot(data=ais.sex)\n",
    "sns.barplot(data=ais.sport)"
   ]
  },
  {
   "cell_type": "markdown",
   "metadata": {},
   "source": [
    "Select the following subsets from the dataset and calculate for each the appropriate measures of central tendency (and, when possible, dispersion) of the variables `ht` and `sex`:\n",
    "\n",
    "1. the rowers\n",
    "2. the rowers, netball and tennis players together\n",
    "3. the female basketball players and rowers together"
   ]
  },
  {
   "cell_type": "code",
   "execution_count": 16,
   "metadata": {},
   "outputs": [],
   "source": [
    "def summary_stats(df):\n",
    "    ht_stats = {\n",
    "        'mean': df.ht.mean(),\n",
    "        'stdev': df.ht.std(),\n",
    "        'min': df.ht.min(),\n",
    "        'Q1': df.ht.quantile(0.25),\n",
    "        'median': df.ht.median(),\n",
    "        'Q3': df.ht.quantile(0.75),\n",
    "        'max': df.ht.max(),\n",
    "        'IQR': df.ht.quantile(0.75) - df.ht.quantile(0.25)\n",
    "    }\n",
    "    \n",
    "    sex_counts = df.sex.value_counts()\n",
    "    mode_sex = df.sex.mode().iloc[0]\n",
    "    \n",
    "    return ht_stats, sex_counts.to_dict(), mode_sex\n"
   ]
  },
  {
   "cell_type": "code",
   "execution_count": 17,
   "metadata": {},
   "outputs": [],
   "source": [
    "selection1 = ais[ais.sport == 'Row']\n",
    "ht_stats1, sex_counts1, mode1 = summary_stats(selection1)\n"
   ]
  },
  {
   "cell_type": "code",
   "execution_count": 18,
   "metadata": {},
   "outputs": [],
   "source": [
    "selection2 = ais[ais.sport.isin(['Row', 'Netball', 'Tennis'])]\n",
    "ht_stats2, sex_counts2, mode2 = summary_stats(selection2)\n"
   ]
  },
  {
   "cell_type": "code",
   "execution_count": 19,
   "metadata": {},
   "outputs": [],
   "source": [
    "selection3 = ais[(ais.sport.isin(['B_Ball', 'Row'])) & (ais.sex == 'f')]\n",
    "ht_stats3, sex_counts3, mode3 = summary_stats(selection3)\n"
   ]
  },
  {
   "cell_type": "code",
   "execution_count": 21,
   "metadata": {},
   "outputs": [
    {
     "name": "stdout",
     "output_type": "stream",
     "text": [
      "=== Selection 1: Rowers ===\n",
      "Sex Counts: {'f': 22, 'm': 15}\n",
      "Sex Mode: f\n",
      "Height Stats:\n",
      "mean: 182.376\n",
      "stdev: 7.798\n",
      "min: 156.0\n",
      "Q1: 179.3\n",
      "median: 181.8\n",
      "Q3: 186.3\n",
      "max: 198.0\n",
      "IQR: 7.0\n",
      "\n",
      "=== Selection 2: Rowers, Netball and Tennis ===\n",
      "Sex Counts: {'f': 52, 'm': 19}\n",
      "Sex Mode: f\n",
      "Height Stats:\n",
      "mean: 179.066\n",
      "stdev: 7.936\n",
      "min: 156.0\n",
      "Q1: 174.25\n",
      "median: 179.5\n",
      "Q3: 183.4\n",
      "max: 198.0\n",
      "IQR: 9.15\n",
      "\n",
      "=== Selection 3: Female Basketball and Rowers ===\n",
      "Sex Counts: {'f': 35, 'm': 0}\n",
      "Sex Mode: f\n",
      "Height Stats:\n",
      "mean: 180.126\n",
      "stdev: 7.144\n",
      "min: 156.0\n",
      "Q1: 177.4\n",
      "median: 179.7\n",
      "Q3: 184.65\n",
      "max: 195.9\n",
      "IQR: 7.25\n"
     ]
    }
   ],
   "source": [
    "print(\"=== Selection 1: Rowers ===\")\n",
    "print(\"Sex Counts:\", sex_counts1)\n",
    "print(\"Sex Mode:\", mode1)\n",
    "print(\"Height Stats:\")\n",
    "for k, v in ht_stats1.items():\n",
    "    print(f\"{k}: {round(v, 3)}\")\n",
    "print()\n",
    "\n",
    "print(\"=== Selection 2: Rowers, Netball and Tennis ===\")\n",
    "print(\"Sex Counts:\", sex_counts2)\n",
    "print(\"Sex Mode:\", mode2)\n",
    "print(\"Height Stats:\")\n",
    "for k, v in ht_stats2.items():\n",
    "    print(f\"{k}: {round(v, 3)}\")\n",
    "print()\n",
    "\n",
    "print(\"=== Selection 3: Female Basketball and Rowers ===\")\n",
    "print(\"Sex Counts:\", sex_counts3)\n",
    "print(\"Sex Mode:\", mode3)\n",
    "print(\"Height Stats:\")\n",
    "for k, v in ht_stats3.items():\n",
    "    print(f\"{k}: {round(v, 3)}\")\n",
    "\n"
   ]
  },
  {
   "cell_type": "markdown",
   "metadata": {},
   "source": [
    "## Check your answers\n",
    "\n",
    "As a check, here are the results of the last question. First the frequencies and mode of the variable `sex`:\n",
    "\n",
    "|           | Selection 1 | Selection 2 | Selection 3 |\n",
    "| :-------- | :---------- | :---------- | :---------- |\n",
    "| **f**     | 22          | 52          | 35          |\n",
    "| **m**     | 15          | 19          | 0           |\n",
    "| **mode**  | f           | f           | f           |\n",
    "\n",
    "Then the relevant measures for central tendency and dispersion for `ht` (max. 3 decimal places):\n",
    "\n",
    "| Statistic  | Selection 1 | Selection 2 | Selection 3 |\n",
    "| :--------- | :---------- | :---------- | :---------- |\n",
    "| mean       | 182.376     | 179.066     | 180.126     |\n",
    "| stdev      | 7.798       | 7.936       | 7.144       |\n",
    "| min        | 156         | 156         | 156         |\n",
    "| Q1         | 179.3       | 174.25      | 177.4       |\n",
    "| median     | 181.8       | 179.5       | 179.7       |\n",
    "| Q3         | 186.3       | 183.4       | 184.65      |\n",
    "| max        | 198         | 198         | 195.9       |\n",
    "| IQR        | 7           | 9.15        | 7.250       |"
   ]
  }
 ],
 "metadata": {
  "kernelspec": {
   "display_name": "Python 3",
   "language": "python",
   "name": "python3"
  },
  "language_info": {
   "codemirror_mode": {
    "name": "ipython",
    "version": 3
   },
   "file_extension": ".py",
   "mimetype": "text/x-python",
   "name": "python",
   "nbconvert_exporter": "python",
   "pygments_lexer": "ipython3",
   "version": "3.13.3"
  },
  "orig_nbformat": 4
 },
 "nbformat": 4,
 "nbformat_minor": 2
}
