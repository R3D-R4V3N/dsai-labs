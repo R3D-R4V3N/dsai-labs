{
 "cells": [
  {
   "cell_type": "code",
   "execution_count": 1,
   "id": "1b388dfb",
   "metadata": {},
   "outputs": [],
   "source": [
    "# Importing the necessary packages\n",
    "import numpy as np                                  # Scientific computing\n",
    "import scipy.stats as stats                         # Statistical tests\n",
    "\n",
    "import pandas as pd                                 # Data Frame\n",
    "from pandas.api.types import CategoricalDtype\n",
    "\n",
    "import matplotlib.pyplot as plt                     # Basic visualisation\n",
    "from statsmodels.graphics.mosaicplot import mosaic  # Mosaic diagram\n",
    "import seaborn as sns                               # Statistical visualisation"
   ]
  },
  {
   "cell_type": "code",
   "execution_count": 39,
   "id": "584cbc4d",
   "metadata": {},
   "outputs": [
    {
     "name": "stdout",
     "output_type": "stream",
     "text": [
      "mean: 173.4\n",
      "median: 184.0\n",
      "var: 863.3\n",
      "std: 29.38196725884773\n"
     ]
    }
   ],
   "source": [
    "lengths = np.array([141,198,143,201,184]) #numpy array\n",
    "lengths.max() - lengths.min()\n",
    "print(f\"mean: {lengths.mean()}\")\n",
    "print(f\"median: {np.median(lengths)}\")\n",
    "print(f\"var: {lengths.var(ddof=1)}\")\n",
    "print(f\"std: {lengths.std(ddof=1)}\")"
   ]
  },
  {
   "cell_type": "code",
   "execution_count": null,
   "id": "ec05784f",
   "metadata": {},
   "outputs": [
    {
     "name": "stdout",
     "output_type": "stream",
     "text": [
      "mean: 147.2\n",
      "median: 184.0\n",
      "std: 80.11054861876805\n",
      "var: 6417.7\n"
     ]
    }
   ],
   "source": [
    "lengths2 = np.array([10,198,143,201,184]) #numpy array\n",
    "lengths2.max() - lengths2.min()\n",
    "print(f\"mean: {lengths2.mean()}\")\n",
    "print(f\"median: {np.median(lengths2)}\")\n",
    "print(f\"var: {lengths2.var(ddof=1)}\")\n",
    "print(f\"std: {lengths2.std(ddof=1)}\")"
   ]
  },
  {
   "cell_type": "code",
   "execution_count": 28,
   "id": "b0aba201",
   "metadata": {},
   "outputs": [],
   "source": [
    "saves = pd.Series([3,7,5,13,20,23,39,13,23,40,13,23,14,12,56,23,29,13]) #kolom zoals je kan importen\n"
   ]
  },
  {
   "cell_type": "code",
   "execution_count": 36,
   "id": "974d90d7",
   "metadata": {},
   "outputs": [
    {
     "name": "stdout",
     "output_type": "stream",
     "text": [
      "numpy.std: 13.225606476327151\n",
      "pandas.std: 13.609036790050249\n"
     ]
    }
   ],
   "source": [
    "print(f\"numpy.std: {np.std(saves)}\")\n",
    "print(f\"pandas.std: {saves.std()}\")"
   ]
  }
 ],
 "metadata": {
  "kernelspec": {
   "display_name": "Python 3",
   "language": "python",
   "name": "python3"
  },
  "language_info": {
   "codemirror_mode": {
    "name": "ipython",
    "version": 3
   },
   "file_extension": ".py",
   "mimetype": "text/x-python",
   "name": "python",
   "nbconvert_exporter": "python",
   "pygments_lexer": "ipython3",
   "version": "3.13.3"
  }
 },
 "nbformat": 4,
 "nbformat_minor": 5
}
