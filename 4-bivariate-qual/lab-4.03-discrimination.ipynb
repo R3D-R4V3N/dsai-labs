{
  "cells": [
    {
      "cell_type": "markdown",
      "metadata": {
        "id": "xDBTRYzLSeM_"
      },
      "source": [
        "# Lab 4.03 - Bivariate Analysis of Qualitative Data\n"
      ]
    },
    {
      "cell_type": "code",
      "execution_count": 2,
      "metadata": {
        "id": "j8I-eUfMSeNF"
      },
      "outputs": [],
      "source": [
        "# Importing the necessary packages\n",
        "import numpy as np                                  # \"Scientific computing\"\n",
        "import scipy.stats as stats                         # Statistical tests\n",
        "\n",
        "import pandas as pd                                 # Data Frame\n",
        "from pandas.api.types import CategoricalDtype\n",
        "\n",
        "import matplotlib.pyplot as plt                     # Basic visualisation\n",
        "from statsmodels.graphics.mosaicplot import mosaic  # Mosaic diagram\n",
        "import seaborn as sns                               # Advanced data visualisation"
      ]
    },
    {
      "cell_type": "markdown",
      "metadata": {
        "id": "YBt7tOyqovNc"
      },
      "source": [
        "## Exercise 3 - Discrimination in schoolteacher hiring\n",
        "\n",
        "African Americans in a St. Louis suburb sued the city \n",
        "claiming they were discriminated against in schoolteacher hiring. Of the city's population, 5.7% were \n",
        "African American; of 405 teachers in the school system, 15 were African American. Set up appropriate \n",
        "hypotheses and determine whether African Americans \n",
        "are underrepresented.  \n",
        "Calculate the standardized residuals. \n",
        "\n",
        "Results of the main calculations:\n",
        "- Chi-squared        χ² = 3.0027\n",
        "- Critical value      g = 3.8415\n",
        "- p-value             p = 0.0831\n",
        "- standardized residuals for african american = -1.7328 > - 2"
      ]
    },
    {
      "cell_type": "code",
      "execution_count": 7,
      "metadata": {
        "id": "VxX_Gzrustbn"
      },
      "outputs": [
        {
          "name": "stdout",
          "output_type": "stream",
          "text": [
            "Significance level  ⍺ = 0.05\n",
            "Sample size         n = 405\n",
            "k = 2; df = 1\n",
            "Chi-squared        χ² = 3.0027\n",
            "Critical value      critical_value = 3.8415\n",
            "p-value             p = 0.0831\n",
            "✅ Verwerp H0 niet: Geen bewijs voor een verband.\n",
            "✅ Verwerp H0 niet: Chi² is niet groter dan de kritieke waarde.\n"
          ]
        }
      ],
      "source": [
        "cat1 = 15 # 30 redbulls\n",
        "total = 405 # 140 drinks total\n",
        "\n",
        "# expected_mu the expected proportion (population) of category 1 (or category n if there are multiple)\n",
        "# ---------> verwachte percentage in de populatie\n",
        "# Percentage in komma getal\n",
        "expected_mu = 0.057\n",
        "\n",
        "observed = np.array([cat1, total - cat1])\n",
        "\n",
        "expected_p = np.array([expected_mu, 1 - expected_mu])\n",
        "\n",
        "\n",
        "alpha = 0.05               # Significance level\n",
        "n = sum(observed)          # Sample size\n",
        "k = len(observed)          # Number of categories\n",
        "dof = k - 1                # Degrees of freedom\n",
        "expected = expected_p * n  # Expected absolute frequencies in the sample\n",
        "critical_value = stats.chi2.isf(alpha, df=dof)  # Critical value\n",
        "\n",
        "# Goodness-of-fit-test in Python:\n",
        "chi2, p = stats.chisquare(f_obs=observed, f_exp=expected)\n",
        "\n",
        "print(\"Significance level  ⍺ = %.2f\" % alpha)\n",
        "print(\"Sample size         n = %d\" % n)\n",
        "print(\"k = %d; df = %d\" % (k, dof))\n",
        "print(\"Chi-squared        χ² = %.4f\" % chi2)\n",
        "print(\"Critical value      critical_value = %.4f\" % critical_value)\n",
        "print(\"p-value             p = %.4f\" % p)\n",
        " \n",
        "if p < alpha:\n",
        "    print(\"❌ Verwerp H0: Er is waarschijnlijk een verband tussen de variabelen.\")\n",
        "else:\n",
        "    print(\"✅ Verwerp H0 niet: Geen bewijs voor een verband.\")\n",
        "\n",
        "if chi2 > critical_value:\n",
        "    print(\"❌ Verwerp H0: Chi² is groter dan de kritieke waarde.\")\n",
        "else:\n",
        "     print(\"✅ Verwerp H0 niet: Chi² is niet groter dan de kritieke waarde.\")"
      ]
    },
    {
      "cell_type": "code",
      "execution_count": null,
      "metadata": {
        "id": "V20Cup7Istbo"
      },
      "outputs": [],
      "source": []
    },
    {
      "cell_type": "code",
      "execution_count": null,
      "metadata": {
        "id": "2iuZ0kBHZKJt"
      },
      "outputs": [],
      "source": []
    }
  ],
  "metadata": {
    "colab": {
      "provenance": []
    },
    "kernelspec": {
      "display_name": "Python 3",
      "language": "python",
      "name": "python3"
    },
    "language_info": {
      "codemirror_mode": {
        "name": "ipython",
        "version": 3
      },
      "file_extension": ".py",
      "mimetype": "text/x-python",
      "name": "python",
      "nbconvert_exporter": "python",
      "pygments_lexer": "ipython3",
      "version": "3.10.12"
    },
    "orig_nbformat": 4
  },
  "nbformat": 4,
  "nbformat_minor": 0
}
